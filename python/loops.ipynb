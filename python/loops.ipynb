{
 "cells": [
  {
   "cell_type": "markdown",
   "metadata": {},
   "source": []
  },
  {
   "cell_type": "code",
   "execution_count": 11,
   "metadata": {},
   "outputs": [
    {
     "name": "stdout",
     "output_type": "stream",
     "text": [
      "1\n",
      "2\n",
      "3\n",
      "4\n",
      "5\n",
      "6\n",
      "7\n",
      "8\n",
      "9\n",
      "10\n"
     ]
    }
   ],
   "source": [
    "# print all the numbers till 10\n",
    "index = 1\n",
    "while index <= 10:\n",
    "    print(index)\n",
    "    index += 1  #index = index + 1"
   ]
  },
  {
   "cell_type": "code",
   "execution_count": 12,
   "metadata": {},
   "outputs": [
    {
     "name": "stdout",
     "output_type": "stream",
     "text": [
      "2\n",
      "4\n",
      "6\n",
      "8\n"
     ]
    }
   ],
   "source": [
    "# print all even numbers below 10\n",
    "index = 1\n",
    "while index < 10:\n",
    "    if index%2 == 0:\n",
    "        print(index)\n",
    "    index += 1"
   ]
  },
  {
   "cell_type": "code",
   "execution_count": 14,
   "metadata": {},
   "outputs": [
    {
     "name": "stdout",
     "output_type": "stream",
     "text": [
      "end of the program\n",
      "2\n",
      "end of the program\n",
      "end of the program\n",
      "4\n",
      "end of the program\n",
      "end of the program\n",
      "6\n",
      "end of the program\n",
      "end of the program\n",
      "8\n",
      "end of the program\n"
     ]
    }
   ],
   "source": [
    "index = 1\n",
    "while True:\n",
    "    if index%2 == 0:\n",
    "        print(index)\n",
    "    index += 1\n",
    "    if index >= 10:\n",
    "        break \n",
    "    print(\"end of the program\")    "
   ]
  },
  {
   "cell_type": "code",
   "execution_count": 2,
   "metadata": {},
   "outputs": [
    {
     "name": "stdout",
     "output_type": "stream",
     "text": [
      "2\n",
      "4\n",
      "6\n",
      "8\n",
      "end of program\n"
     ]
    }
   ],
   "source": [
    "index = 1\n",
    "while True:\n",
    "    if index%2 == 0:\n",
    "        print(index)\n",
    "    index += 1\n",
    "    if index >= 10:\n",
    "        break\n",
    "print(\"end of program\")"
   ]
  },
  {
   "cell_type": "code",
   "execution_count": 4,
   "metadata": {},
   "outputs": [
    {
     "name": "stdout",
     "output_type": "stream",
     "text": [
      "prime number\n"
     ]
    }
   ],
   "source": [
    "# lets find the number is prime or not\n",
    "is_prime = True\n",
    "number = 7\n",
    "index = 2\n",
    "while index < number:\n",
    "    if number % index == 0:\n",
    "        is_prime = False\n",
    "        break\n",
    "    index += 1\n",
    "if is_prime:\n",
    "    print(\"prime number\")    "
   ]
  },
  {
   "cell_type": "code",
   "execution_count": 9,
   "metadata": {},
   "outputs": [
    {
     "name": "stdout",
     "output_type": "stream",
     "text": [
      "233168\n"
     ]
    }
   ],
   "source": [
    "index = 1\n",
    "sum =0\n",
    "while index < 1000:\n",
    "    if index%3 == 0 or index%5 == 0:\n",
    "        sum += index\n",
    "    index += 1\n",
    "print(sum)"
   ]
  },
  {
   "cell_type": "code",
   "execution_count": 10,
   "metadata": {},
   "outputs": [
    {
     "name": "stdout",
     "output_type": "stream",
     "text": [
      "2\n"
     ]
    }
   ],
   "source": [
    "# We need to imporve this program down the line\n",
    "number = int(input(\"Enter the number: \"))\n",
    "result = 0\n",
    "while True:\n",
    "    result = result + (number%10)\n",
    "    number = number // 10\n",
    "    if result < 10 and number == 0:\n",
    "        break\n",
    "    if number == 0:\n",
    "        number = result\n",
    "        result = 0\n",
    "print(result)"
   ]
  },
  {
   "cell_type": "code",
   "execution_count": 15,
   "metadata": {},
   "outputs": [
    {
     "name": "stdout",
     "output_type": "stream",
     "text": [
      "1\n",
      "3\n",
      "5\n",
      "7\n",
      "9\n"
     ]
    }
   ],
   "source": [
    "items = range(1, 10, 2)\n",
    "for item in items:\n",
    "    print(item)"
   ]
  },
  {
   "cell_type": "code",
   "execution_count": 19,
   "metadata": {},
   "outputs": [],
   "source": [
    "# number guessing game\n",
    "# user will be given six chances\n",
    "\n",
    "# guess a number between 1 to 100\n",
    "import random\n",
    "random_number = random.randint(1,100)\n",
    "did_user_win = False\n",
    "for chance in range(6,0):\n",
    "    guessed_number = int(input(\"Enter your number: \"))\n",
    "    if guessed_number == random_number:\n",
    "        print(\"Hooray!... You have won\")\n",
    "        did_user_win = True\n",
    "        break\n",
    "    elif guessed_number > random_number:\n",
    "        print(\"Actual number is little bit lower than what you have guessed\")\n",
    "    else:\n",
    "        print(\"Actual number is little bit higher than what you have guessed\")"
   ]
  }
 ],
 "metadata": {
  "kernelspec": {
   "display_name": "Python 3",
   "language": "python",
   "name": "python3"
  },
  "language_info": {
   "codemirror_mode": {
    "name": "ipython",
    "version": 3
   },
   "file_extension": ".py",
   "mimetype": "text/x-python",
   "name": "python",
   "nbconvert_exporter": "python",
   "pygments_lexer": "ipython3",
   "version": "3.12.3"
  }
 },
 "nbformat": 4,
 "nbformat_minor": 2
}
